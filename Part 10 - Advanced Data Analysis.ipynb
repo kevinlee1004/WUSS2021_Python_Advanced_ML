{
 "cells": [
  {
   "cell_type": "markdown",
   "metadata": {},
   "source": [
    "# Advanced Data Analysis\n",
    "- Metadata Analysis\n",
    "- Sort\n",
    "- Merge\n",
    "- Replace and Assign the data\n",
    "- Rename, Drop and Keep the variables\n",
    "- Reorder and add new variables\n",
    "- Subsetting / Slicing\n",
    "- Groupby - count, mean, descriptive statistics, first record"
   ]
  },
  {
   "cell_type": "code",
   "execution_count": 1,
   "metadata": {},
   "outputs": [],
   "source": [
    "### Import packages\n",
    "from pandas import Series, DataFrame\n",
    "import pandas as pd\n",
    "import numpy as np\n",
    "import xport  ## write sas datasets to local drive"
   ]
  },
  {
   "cell_type": "markdown",
   "metadata": {},
   "source": [
    "## Metadata of DataFrame\n",
    "It is like proc contents. <br>"
   ]
  },
  {
   "cell_type": "code",
   "execution_count": 2,
   "metadata": {},
   "outputs": [],
   "source": [
    "df_tteos = pd.read_sas('./data/raw/adtteos.sas7bdat', format='sas7bdat', encoding='utf-8')"
   ]
  },
  {
   "cell_type": "code",
   "execution_count": 3,
   "metadata": {},
   "outputs": [
    {
     "name": "stdout",
     "output_type": "stream",
     "text": [
      "\n",
      " List of columns: \n",
      "  Index(['SUBJID', 'SITEID', 'FASFL', 'SAFFL', 'TRTP', 'TRTPN', 'PARAM',\n",
      "       'PARAMCD', 'PARAMTYP', 'AVISIT', 'AVISITN', 'AVAL', 'STARTDT', 'ADT',\n",
      "       'ADTF', 'CNSR', 'EVNTDESC'],\n",
      "      dtype='object')\n",
      "\n",
      " Shape of input data: \n",
      " (300, 17)\n"
     ]
    }
   ],
   "source": [
    "print(\"\\n List of columns: \\n \", df_tteos.columns)\n",
    "print(\"\\n Shape of input data: \\n\", df_tteos.shape) ## 300 records and 17 columns"
   ]
  },
  {
   "cell_type": "code",
   "execution_count": 4,
   "metadata": {},
   "outputs": [
    {
     "name": "stdout",
     "output_type": "stream",
     "text": [
      "Information of input data:\n",
      "<class 'pandas.core.frame.DataFrame'>\n",
      "RangeIndex: 300 entries, 0 to 299\n",
      "Data columns (total 17 columns):\n",
      " #   Column    Non-Null Count  Dtype         \n",
      "---  ------    --------------  -----         \n",
      " 0   SUBJID    300 non-null    object        \n",
      " 1   SITEID    300 non-null    object        \n",
      " 2   FASFL     300 non-null    object        \n",
      " 3   SAFFL     300 non-null    object        \n",
      " 4   TRTP      300 non-null    object        \n",
      " 5   TRTPN     300 non-null    float64       \n",
      " 6   PARAM     300 non-null    object        \n",
      " 7   PARAMCD   300 non-null    object        \n",
      " 8   PARAMTYP  300 non-null    object        \n",
      " 9   AVISIT    300 non-null    object        \n",
      " 10  AVISITN   300 non-null    float64       \n",
      " 11  AVAL      300 non-null    float64       \n",
      " 12  STARTDT   300 non-null    datetime64[ns]\n",
      " 13  ADT       300 non-null    datetime64[ns]\n",
      " 14  ADTF      35 non-null     object        \n",
      " 15  CNSR      300 non-null    float64       \n",
      " 16  EVNTDESC  300 non-null    object        \n",
      "dtypes: datetime64[ns](2), float64(4), object(11)\n",
      "memory usage: 40.0+ KB\n",
      "None\n",
      "\n",
      " Description of numeric columns of input data: \n",
      "             TRTPN  AVISITN        AVAL        CNSR\n",
      "count  300.000000    300.0  300.000000  300.000000\n",
      "mean     1.506667     91.0   45.620000    0.343333\n",
      "std      0.500791      0.0   33.842972    0.475615\n",
      "min      1.000000     91.0    1.000000    0.000000\n",
      "25%      1.000000     91.0   12.000000    0.000000\n",
      "50%      2.000000     91.0   41.500000    0.000000\n",
      "75%      2.000000     91.0   84.000000    1.000000\n",
      "max      2.000000     91.0   96.000000    1.000000\n"
     ]
    }
   ],
   "source": [
    "## Metadata of input data\n",
    "print(\"Information of input data:\"); print(df_tteos.info())\n",
    "print(\"\\n Description of numeric columns of input data: \\n\", df_tteos.describe())"
   ]
  },
  {
   "cell_type": "code",
   "execution_count": 5,
   "metadata": {},
   "outputs": [
    {
     "name": "stdout",
     "output_type": "stream",
     "text": [
      "\n",
      "First five data: \n",
      "     SUBJID SITEID FASFL SAFFL        TRTP  TRTPN          PARAM PARAMCD  \\\n",
      "0  310-001    310     Y     Y     Control    1.0  Days to Death   DEATH   \n",
      "1  310-002    310     Y     Y     Control    1.0  Days to Death   DEATH   \n",
      "2  310-003    310     Y     Y  Study Drug    2.0  Days to Death   DEATH   \n",
      "3  310-004    310     Y     Y  Study Drug    2.0  Days to Death   DEATH   \n",
      "4  310-005    310     Y     Y  Study Drug    2.0  Days to Death   DEATH   \n",
      "\n",
      "  PARAMTYP               AVISIT  AVISITN  AVAL    STARTDT        ADT ADTF  \\\n",
      "0  DERIVED  Double-Blind Period     91.0   1.0 2007-11-12 2007-11-12  NaN   \n",
      "1  DERIVED  Double-Blind Period     91.0  83.0 2008-01-11 2008-04-02  NaN   \n",
      "2  DERIVED  Double-Blind Period     91.0  84.0 2008-02-01 2008-04-24  NaN   \n",
      "3  DERIVED  Double-Blind Period     91.0   9.0 2008-02-07 2008-02-15  NaN   \n",
      "4  DERIVED  Double-Blind Period     91.0  51.0 2008-02-21 2008-04-11  NaN   \n",
      "\n",
      "   CNSR                       EVNTDESC  \n",
      "0   0.0                          DEATH  \n",
      "1   1.0  COMPLETE PERIOD WITHOUT EVENT  \n",
      "2   0.0                          DEATH  \n",
      "3   0.0                          DEATH  \n",
      "4   0.0                          DEATH  \n",
      "\n",
      "Last five data: \n",
      "       SUBJID SITEID FASFL SAFFL        TRTP  TRTPN          PARAM PARAMCD  \\\n",
      "295  342-003    342     Y     Y  Study Drug    2.0  Days to Death   DEATH   \n",
      "296  342-004    342     Y     Y     Control    1.0  Days to Death   DEATH   \n",
      "297  342-005    342     Y     Y  Study Drug    2.0  Days to Death   DEATH   \n",
      "298  343-001    343     Y     Y     Control    1.0  Days to Death   DEATH   \n",
      "299  343-002    343     Y     Y     Control    1.0  Days to Death   DEATH   \n",
      "\n",
      "    PARAMTYP               AVISIT  AVISITN  AVAL    STARTDT        ADT ADTF  \\\n",
      "295  DERIVED  Double-Blind Period     91.0  41.0 2009-06-29 2009-08-08  NaN   \n",
      "296  DERIVED  Double-Blind Period     91.0  85.0 2009-07-23 2009-10-15    Y   \n",
      "297  DERIVED  Double-Blind Period     91.0  12.0 2009-09-16 2009-09-27  NaN   \n",
      "298  DERIVED  Double-Blind Period     91.0  39.0 2009-11-16 2009-12-24  NaN   \n",
      "299  DERIVED  Double-Blind Period     91.0  84.0 2009-12-18 2010-03-11  NaN   \n",
      "\n",
      "     CNSR                       EVNTDESC  \n",
      "295   0.0                          DEATH  \n",
      "296   0.0                  ADVERSE EVENT  \n",
      "297   1.0                          OTHER  \n",
      "298   0.0                          DEATH  \n",
      "299   1.0  COMPLETE PERIOD WITHOUT EVENT  \n"
     ]
    }
   ],
   "source": [
    "## first and last 5 records\n",
    "print(\"\\nFirst five data: \\n\", df_tteos.head())\n",
    "print(\"\\nLast five data: \\n\", df_tteos.tail())"
   ]
  },
  {
   "cell_type": "markdown",
   "metadata": {},
   "source": [
    "### Data Manipulation"
   ]
  },
  {
   "cell_type": "code",
   "execution_count": 6,
   "metadata": {},
   "outputs": [
    {
     "name": "stdout",
     "output_type": "stream",
     "text": [
      "   subjid  visitnum blood pressure\n",
      "0  01-001         1            150\n",
      "1  01-001         2            151\n",
      "2  01-002         1            146\n",
      "3  01-002         2            145\n",
      "   subjid  visitnum weight\n",
      "0  01-001         1    180\n",
      "1  01-001         2    181\n",
      "2  01-002         2    160\n",
      "3  01-002         1    158\n",
      "4  01-002         3    160\n"
     ]
    }
   ],
   "source": [
    "raw3 = {'subjid': ['01-001', '01-001', '01-002', '01-002'],\n",
    "        'visitnum': [1,2,1,2],\n",
    "        'blood pressure': ['150','151','146','145']\n",
    "       }\n",
    "df3 = pd.DataFrame(raw3)\n",
    "print(df3)\n",
    "## prepare raw data - not sorted\n",
    "raw4 = {'subjid': ['01-001', '01-001', '01-002', '01-002', '01-002' ],\n",
    "        'visitnum': [1,2,2,1,3],\n",
    "        'weight': ['180','181','160','158','160']\n",
    "       }\n",
    "df4 = pd.DataFrame(raw4)\n",
    "print(df4)"
   ]
  },
  {
   "cell_type": "markdown",
   "metadata": {},
   "source": [
    "### Sort"
   ]
  },
  {
   "cell_type": "code",
   "execution_count": 7,
   "metadata": {},
   "outputs": [
    {
     "name": "stdout",
     "output_type": "stream",
     "text": [
      "   subjid  visitnum weight\n",
      "0  01-001         1    180\n",
      "1  01-001         2    181\n",
      "3  01-002         1    158\n",
      "2  01-002         2    160\n",
      "4  01-002         3    160\n"
     ]
    }
   ],
   "source": [
    "df4_2 = df4.sort_values(by=['subjid','visitnum'], ascending=True)\n",
    "print(df4_2)\n",
    "\n",
    "#df4.sort_values(by=['subjid','visitnum'], ascending=True, inplace=True) ##Overwriting the current data\n",
    "#print(df4)"
   ]
  },
  {
   "cell_type": "markdown",
   "metadata": {},
   "source": [
    "### Merge - inner merge with two key variables"
   ]
  },
  {
   "cell_type": "code",
   "execution_count": 8,
   "metadata": {},
   "outputs": [
    {
     "name": "stdout",
     "output_type": "stream",
     "text": [
      "   subjid  visitnum blood pressure weight\n",
      "0  01-001         1            150    180\n",
      "1  01-001         2            151    181\n",
      "2  01-002         1            146    158\n",
      "3  01-002         2            145    160\n"
     ]
    }
   ],
   "source": [
    "## Merge by two key variables\n",
    "df_merged_2 = pd.merge(df3, df4, on=('subjid', 'visitnum'), how='inner') ## merging by two columns. Data does not need to be sorted\n",
    "print(df_merged_2)"
   ]
  },
  {
   "cell_type": "markdown",
   "metadata": {},
   "source": [
    "## Replacing data with new variables"
   ]
  },
  {
   "cell_type": "code",
   "execution_count": 30,
   "metadata": {},
   "outputs": [
    {
     "name": "stdout",
     "output_type": "stream",
     "text": [
      "   subjid  severity code\n",
      "0  01-001              1\n",
      "1  01-002              2\n",
      "2  01-003              2\n",
      "3  01-004              3\n"
     ]
    }
   ],
   "source": [
    "## set up raw data frame\n",
    "raw1 = {'subjid': ['01-001', '01-002', '01-003', '01-004'],\n",
    "        'severity code': [1,2,2,3],\n",
    "       }\n",
    "df1 = pd.DataFrame(raw1)\n",
    "print(df1)"
   ]
  },
  {
   "cell_type": "code",
   "execution_count": 31,
   "metadata": {},
   "outputs": [
    {
     "name": "stdout",
     "output_type": "stream",
     "text": [
      "   subjid  severity code Severity Desc 1\n",
      "0  01-001              1            Mild\n",
      "1  01-002              2        Moderate\n",
      "2  01-003              2        Moderate\n",
      "3  01-004              3          Severe\n"
     ]
    }
   ],
   "source": [
    "## Relacing values : 1 \n",
    "code_to_severity = {\n",
    "    1 : 'Mild', 2 : 'Moderate', 3:'Severe'\n",
    "}\n",
    "df1['Severity Desc 1']= df1['severity code'].map(code_to_severity)\n",
    "print(df1)"
   ]
  },
  {
   "cell_type": "code",
   "execution_count": 32,
   "metadata": {},
   "outputs": [
    {
     "name": "stdout",
     "output_type": "stream",
     "text": [
      "   subjid  severity code Severity Desc 1 Severity Desc 2\n",
      "0  01-001              1            Mild            Mild\n",
      "1  01-002              2        Moderate        Moderate\n",
      "2  01-003              2        Moderate        Moderate\n",
      "3  01-004              3          Severe          Severe\n"
     ]
    }
   ],
   "source": [
    "## Relacing values : 2\n",
    "code = [1,2,3]; desc = ['Mild', 'Moderate','Severe']\n",
    "df1['Severity Desc 2']= df1['severity code'].replace(code, desc)\n",
    "print(df1)"
   ]
  },
  {
   "cell_type": "code",
   "execution_count": 40,
   "metadata": {},
   "outputs": [
    {
     "name": "stdout",
     "output_type": "stream",
     "text": [
      "   subjid  severity code Severity Desc 1 Severity Desc 2 Severity Desc 3  \\\n",
      "0  01-001              1            Mild            Mild            Mild   \n",
      "1  01-002              2        Moderate        Moderate        Moderate   \n",
      "2  01-003              2        Moderate        Moderate        Moderate   \n",
      "3  01-004              3          Severe          Severe          Severe   \n",
      "\n",
      "  Severity Desc 4 Severity Desc 5  \n",
      "0            Mild            Mild  \n",
      "1        Moderate        Moderate  \n",
      "2        Moderate        Moderate  \n",
      "3          Severe          Severe  \n"
     ]
    }
   ],
   "source": [
    "## Relacing values : 3\n",
    "df1['Severity Desc 3']= df1['severity code'].apply(lambda x: 'Mild' if x == 1 \n",
    "                                                   else 'Moderate' if x==2 else 'Severe' if x==3 else '')\n",
    "print(df1)"
   ]
  },
  {
   "cell_type": "code",
   "execution_count": 34,
   "metadata": {},
   "outputs": [
    {
     "data": {
      "text/html": [
       "<div>\n",
       "<style scoped>\n",
       "    .dataframe tbody tr th:only-of-type {\n",
       "        vertical-align: middle;\n",
       "    }\n",
       "\n",
       "    .dataframe tbody tr th {\n",
       "        vertical-align: top;\n",
       "    }\n",
       "\n",
       "    .dataframe thead th {\n",
       "        text-align: right;\n",
       "    }\n",
       "</style>\n",
       "<table border=\"1\" class=\"dataframe\">\n",
       "  <thead>\n",
       "    <tr style=\"text-align: right;\">\n",
       "      <th></th>\n",
       "      <th>subjid</th>\n",
       "      <th>severity code</th>\n",
       "      <th>Severity Desc 1</th>\n",
       "      <th>Severity Desc 2</th>\n",
       "      <th>Severity Desc 3</th>\n",
       "      <th>Severity Desc 4</th>\n",
       "    </tr>\n",
       "  </thead>\n",
       "  <tbody>\n",
       "    <tr>\n",
       "      <th>0</th>\n",
       "      <td>01-001</td>\n",
       "      <td>1</td>\n",
       "      <td>Mild</td>\n",
       "      <td>Mild</td>\n",
       "      <td>Mild</td>\n",
       "      <td>Mild</td>\n",
       "    </tr>\n",
       "    <tr>\n",
       "      <th>1</th>\n",
       "      <td>01-002</td>\n",
       "      <td>2</td>\n",
       "      <td>Moderate</td>\n",
       "      <td>Moderate</td>\n",
       "      <td>Moderate</td>\n",
       "      <td>Moderate</td>\n",
       "    </tr>\n",
       "    <tr>\n",
       "      <th>2</th>\n",
       "      <td>01-003</td>\n",
       "      <td>2</td>\n",
       "      <td>Moderate</td>\n",
       "      <td>Moderate</td>\n",
       "      <td>Moderate</td>\n",
       "      <td>Moderate</td>\n",
       "    </tr>\n",
       "    <tr>\n",
       "      <th>3</th>\n",
       "      <td>01-004</td>\n",
       "      <td>3</td>\n",
       "      <td>Severe</td>\n",
       "      <td>Severe</td>\n",
       "      <td>Severe</td>\n",
       "      <td>Severe</td>\n",
       "    </tr>\n",
       "  </tbody>\n",
       "</table>\n",
       "</div>"
      ],
      "text/plain": [
       "   subjid  severity code Severity Desc 1 Severity Desc 2 Severity Desc 3  \\\n",
       "0  01-001              1            Mild            Mild            Mild   \n",
       "1  01-002              2        Moderate        Moderate        Moderate   \n",
       "2  01-003              2        Moderate        Moderate        Moderate   \n",
       "3  01-004              3          Severe          Severe          Severe   \n",
       "\n",
       "  Severity Desc 4  \n",
       "0            Mild  \n",
       "1        Moderate  \n",
       "2        Moderate  \n",
       "3          Severe  "
      ]
     },
     "execution_count": 34,
     "metadata": {},
     "output_type": "execute_result"
    }
   ],
   "source": [
    "## Relacing values : 4\n",
    "for index, _df1 in df1.iterrows():    \n",
    "    ## Create age group\n",
    "    if _df1['severity code'] ==1 :\n",
    "        df1.loc[index, 'Severity Desc 4'] = 'Mild'\n",
    "    elif _df1['severity code'] ==2:\n",
    "        df1.loc[index, 'Severity Desc 4'] = 'Moderate'\n",
    "    elif _df1['severity code'] ==3 :        \n",
    "        df1.loc[index, 'Severity Desc 4'] = 'Severe'\n",
    "    else:\n",
    "        df1.loc[index, 'Severity Desc 4'] = ''\n",
    "df1"
   ]
  },
  {
   "cell_type": "code",
   "execution_count": 35,
   "metadata": {},
   "outputs": [
    {
     "data": {
      "text/html": [
       "<div>\n",
       "<style scoped>\n",
       "    .dataframe tbody tr th:only-of-type {\n",
       "        vertical-align: middle;\n",
       "    }\n",
       "\n",
       "    .dataframe tbody tr th {\n",
       "        vertical-align: top;\n",
       "    }\n",
       "\n",
       "    .dataframe thead th {\n",
       "        text-align: right;\n",
       "    }\n",
       "</style>\n",
       "<table border=\"1\" class=\"dataframe\">\n",
       "  <thead>\n",
       "    <tr style=\"text-align: right;\">\n",
       "      <th></th>\n",
       "      <th>subjid</th>\n",
       "      <th>severity code</th>\n",
       "      <th>Severity Desc 1</th>\n",
       "      <th>Severity Desc 2</th>\n",
       "      <th>Severity Desc 3</th>\n",
       "      <th>Severity Desc 4</th>\n",
       "      <th>Severity Desc 5</th>\n",
       "    </tr>\n",
       "  </thead>\n",
       "  <tbody>\n",
       "    <tr>\n",
       "      <th>0</th>\n",
       "      <td>01-001</td>\n",
       "      <td>1</td>\n",
       "      <td>Mild</td>\n",
       "      <td>Mild</td>\n",
       "      <td>Mild</td>\n",
       "      <td>Mild</td>\n",
       "      <td>Mild</td>\n",
       "    </tr>\n",
       "    <tr>\n",
       "      <th>1</th>\n",
       "      <td>01-002</td>\n",
       "      <td>2</td>\n",
       "      <td>Moderate</td>\n",
       "      <td>Moderate</td>\n",
       "      <td>Moderate</td>\n",
       "      <td>Moderate</td>\n",
       "      <td>Moderate</td>\n",
       "    </tr>\n",
       "    <tr>\n",
       "      <th>2</th>\n",
       "      <td>01-003</td>\n",
       "      <td>2</td>\n",
       "      <td>Moderate</td>\n",
       "      <td>Moderate</td>\n",
       "      <td>Moderate</td>\n",
       "      <td>Moderate</td>\n",
       "      <td>Moderate</td>\n",
       "    </tr>\n",
       "    <tr>\n",
       "      <th>3</th>\n",
       "      <td>01-004</td>\n",
       "      <td>3</td>\n",
       "      <td>Severe</td>\n",
       "      <td>Severe</td>\n",
       "      <td>Severe</td>\n",
       "      <td>Severe</td>\n",
       "      <td>Severe</td>\n",
       "    </tr>\n",
       "  </tbody>\n",
       "</table>\n",
       "</div>"
      ],
      "text/plain": [
       "   subjid  severity code Severity Desc 1 Severity Desc 2 Severity Desc 3  \\\n",
       "0  01-001              1            Mild            Mild            Mild   \n",
       "1  01-002              2        Moderate        Moderate        Moderate   \n",
       "2  01-003              2        Moderate        Moderate        Moderate   \n",
       "3  01-004              3          Severe          Severe          Severe   \n",
       "\n",
       "  Severity Desc 4 Severity Desc 5  \n",
       "0            Mild            Mild  \n",
       "1        Moderate        Moderate  \n",
       "2        Moderate        Moderate  \n",
       "3          Severe          Severe  "
      ]
     },
     "execution_count": 35,
     "metadata": {},
     "output_type": "execute_result"
    }
   ],
   "source": [
    "## Replacing values : 5\n",
    "df1.loc[df1['severity code']==1, 'Severity Desc 5'] = 'Mild'\n",
    "df1.loc[df1['severity code']==2, 'Severity Desc 5'] = 'Moderate'\n",
    "df1.loc[df1['severity code']==3, 'Severity Desc 5'] = 'Severe'\n",
    "df1"
   ]
  },
  {
   "attachments": {
    "image.png": {
     "image/png": "[encoded data removed]"
    }
   },
   "cell_type": "markdown",
   "metadata": {},
   "source": [
    "### Creating variables using two variables\n",
    "\n",
    "![image.png](attachment:image.png)"
   ]
  },
  {
   "cell_type": "code",
   "execution_count": 36,
   "metadata": {},
   "outputs": [
    {
     "name": "stdout",
     "output_type": "stream",
     "text": [
      "  USUBJID                            PARAM  AVAL   BASE   CHG\n",
      "0  01-001  Systolic Blood Pressure (mm Hg)   170  150.0  20.0\n",
      "1  01-002  Systolic Blood Pressure (mm Hg)   150  150.0   0.0\n",
      "2  01-003  Systolic Blood Pressure (mm Hg)   155    NaN   NaN\n"
     ]
    }
   ],
   "source": [
    "## creating dataframe from dictionaries\n",
    "raw = {'USUBJID': ['01-001', '01-002', '01-003'],\n",
    "      'PARAM': ['Systolic Blood Pressure (mm Hg)','Systolic Blood Pressure (mm Hg)','Systolic Blood Pressure (mm Hg)'],\n",
    "      'AVAL': [170, 150, 155],\n",
    "      'BASE': [150, 150, np.NaN],\n",
    "      'CHG' : [20, 0, np.NaN]}\n",
    "df5 = DataFrame(raw)\n",
    "print(df5)"
   ]
  },
  {
   "cell_type": "code",
   "execution_count": 39,
   "metadata": {},
   "outputs": [
    {
     "data": {
      "text/html": [
       "<div>\n",
       "<style scoped>\n",
       "    .dataframe tbody tr th:only-of-type {\n",
       "        vertical-align: middle;\n",
       "    }\n",
       "\n",
       "    .dataframe tbody tr th {\n",
       "        vertical-align: top;\n",
       "    }\n",
       "\n",
       "    .dataframe thead th {\n",
       "        text-align: right;\n",
       "    }\n",
       "</style>\n",
       "<table border=\"1\" class=\"dataframe\">\n",
       "  <thead>\n",
       "    <tr style=\"text-align: right;\">\n",
       "      <th></th>\n",
       "      <th>USUBJID</th>\n",
       "      <th>PARAM</th>\n",
       "      <th>AVAL</th>\n",
       "      <th>BASE</th>\n",
       "      <th>CHG</th>\n",
       "      <th>CRIT1</th>\n",
       "      <th>CRIT1FL</th>\n",
       "    </tr>\n",
       "  </thead>\n",
       "  <tbody>\n",
       "    <tr>\n",
       "      <th>0</th>\n",
       "      <td>01-001</td>\n",
       "      <td>Systolic Blood Pressure (mm Hg)</td>\n",
       "      <td>170</td>\n",
       "      <td>150.0</td>\n",
       "      <td>20.0</td>\n",
       "      <td>Systolic Pressure &gt; 160 &amp; CHG &gt; 10</td>\n",
       "      <td>Y</td>\n",
       "    </tr>\n",
       "    <tr>\n",
       "      <th>1</th>\n",
       "      <td>01-002</td>\n",
       "      <td>Systolic Blood Pressure (mm Hg)</td>\n",
       "      <td>150</td>\n",
       "      <td>150.0</td>\n",
       "      <td>0.0</td>\n",
       "      <td></td>\n",
       "      <td></td>\n",
       "    </tr>\n",
       "    <tr>\n",
       "      <th>2</th>\n",
       "      <td>01-003</td>\n",
       "      <td>Systolic Blood Pressure (mm Hg)</td>\n",
       "      <td>155</td>\n",
       "      <td>NaN</td>\n",
       "      <td>NaN</td>\n",
       "      <td></td>\n",
       "      <td></td>\n",
       "    </tr>\n",
       "  </tbody>\n",
       "</table>\n",
       "</div>"
      ],
      "text/plain": [
       "  USUBJID                            PARAM  AVAL   BASE   CHG  \\\n",
       "0  01-001  Systolic Blood Pressure (mm Hg)   170  150.0  20.0   \n",
       "1  01-002  Systolic Blood Pressure (mm Hg)   150  150.0   0.0   \n",
       "2  01-003  Systolic Blood Pressure (mm Hg)   155    NaN   NaN   \n",
       "\n",
       "                                CRIT1 CRIT1FL  \n",
       "0  Systolic Pressure > 160 & CHG > 10       Y  \n",
       "1                                              \n",
       "2                                              "
      ]
     },
     "execution_count": 39,
     "metadata": {},
     "output_type": "execute_result"
    }
   ],
   "source": [
    "## Use Lambda\n",
    "#axis = 1 is required for row manipulation\n",
    "df5['CRIT1'] = df5[['AVAL','CHG']].apply(lambda row: 'Systolic Pressure > 160 & CHG > 10' \n",
    "                                         if row.AVAL > 160 and row.CHG > 10 else '', axis=1) \n",
    "df5['CRIT1FL'] = df5[['AVAL','CHG']].apply(lambda row: 'Y' \n",
    "                                           if row.AVAL > 160 and row.CHG > 10 else '', axis=1) \n",
    "df5"
   ]
  },
  {
   "cell_type": "code",
   "execution_count": 41,
   "metadata": {},
   "outputs": [
    {
     "data": {
      "text/html": [
       "<div>\n",
       "<style scoped>\n",
       "    .dataframe tbody tr th:only-of-type {\n",
       "        vertical-align: middle;\n",
       "    }\n",
       "\n",
       "    .dataframe tbody tr th {\n",
       "        vertical-align: top;\n",
       "    }\n",
       "\n",
       "    .dataframe thead th {\n",
       "        text-align: right;\n",
       "    }\n",
       "</style>\n",
       "<table border=\"1\" class=\"dataframe\">\n",
       "  <thead>\n",
       "    <tr style=\"text-align: right;\">\n",
       "      <th></th>\n",
       "      <th>USUBJID</th>\n",
       "      <th>PARAM</th>\n",
       "      <th>AVAL</th>\n",
       "      <th>BASE</th>\n",
       "      <th>CHG</th>\n",
       "      <th>CRIT1</th>\n",
       "      <th>CRIT1FL</th>\n",
       "      <th>CRIT2</th>\n",
       "      <th>CRIT2FL</th>\n",
       "    </tr>\n",
       "  </thead>\n",
       "  <tbody>\n",
       "    <tr>\n",
       "      <th>0</th>\n",
       "      <td>01-001</td>\n",
       "      <td>Systolic Blood Pressure (mm Hg)</td>\n",
       "      <td>170</td>\n",
       "      <td>150.0</td>\n",
       "      <td>20.0</td>\n",
       "      <td>Systolic Pressure &gt; 160 &amp; CHG &gt; 10</td>\n",
       "      <td>Y</td>\n",
       "      <td>Systolic Pressure &gt; 160 &amp; CHG 10</td>\n",
       "      <td>Y</td>\n",
       "    </tr>\n",
       "    <tr>\n",
       "      <th>1</th>\n",
       "      <td>01-002</td>\n",
       "      <td>Systolic Blood Pressure (mm Hg)</td>\n",
       "      <td>150</td>\n",
       "      <td>150.0</td>\n",
       "      <td>0.0</td>\n",
       "      <td></td>\n",
       "      <td></td>\n",
       "      <td>Systolic Pressure &gt; 160 &amp; CHG 10</td>\n",
       "      <td>N</td>\n",
       "    </tr>\n",
       "    <tr>\n",
       "      <th>2</th>\n",
       "      <td>01-003</td>\n",
       "      <td>Systolic Blood Pressure (mm Hg)</td>\n",
       "      <td>155</td>\n",
       "      <td>NaN</td>\n",
       "      <td>NaN</td>\n",
       "      <td></td>\n",
       "      <td></td>\n",
       "      <td>Systolic Pressure &gt; 160 &amp; CHG 10</td>\n",
       "      <td></td>\n",
       "    </tr>\n",
       "  </tbody>\n",
       "</table>\n",
       "</div>"
      ],
      "text/plain": [
       "  USUBJID                            PARAM  AVAL   BASE   CHG  \\\n",
       "0  01-001  Systolic Blood Pressure (mm Hg)   170  150.0  20.0   \n",
       "1  01-002  Systolic Blood Pressure (mm Hg)   150  150.0   0.0   \n",
       "2  01-003  Systolic Blood Pressure (mm Hg)   155    NaN   NaN   \n",
       "\n",
       "                                CRIT1 CRIT1FL  \\\n",
       "0  Systolic Pressure > 160 & CHG > 10       Y   \n",
       "1                                               \n",
       "2                                               \n",
       "\n",
       "                              CRIT2 CRIT2FL  \n",
       "0  Systolic Pressure > 160 & CHG 10       Y  \n",
       "1  Systolic Pressure > 160 & CHG 10       N  \n",
       "2  Systolic Pressure > 160 & CHG 10          "
      ]
     },
     "execution_count": 41,
     "metadata": {},
     "output_type": "execute_result"
    }
   ],
   "source": [
    "## Using iterative function\n",
    "for index, _df5 in df5.iterrows():    \n",
    "    df5.loc[index, 'CRIT2'] = 'Systolic Pressure > 160 & CHG 10'\n",
    "    if _df5.AVAL > 160 and _df5.CHG > 10 :\n",
    "        df5.loc[index, 'CRIT2FL'] = 'Y'\n",
    "    elif  np.isnan(_df5.AVAL) or np.isnan(_df5.CHG) : ## checking Null value (np.NaN)\n",
    "        df5.loc[index, 'CRIT2FL'] = ''   \n",
    "    elif _df5.AVAL is not None and _df5.CHG is not None :\n",
    "        df5.loc[index, 'CRIT2FL'] = 'N'   \n",
    "    else :\n",
    "        df5.loc[index, 'CRIT2FL'] = ''\n",
    "\n",
    "df5"
   ]
  },
  {
   "cell_type": "markdown",
   "metadata": {},
   "source": [
    "### How to rename, drop, keep, re-order, and columns/variables"
   ]
  },
  {
   "cell_type": "code",
   "execution_count": 42,
   "metadata": {
    "tags": []
   },
   "outputs": [
    {
     "data": {
      "text/html": [
       "<div>\n",
       "<style scoped>\n",
       "    .dataframe tbody tr th:only-of-type {\n",
       "        vertical-align: middle;\n",
       "    }\n",
       "\n",
       "    .dataframe tbody tr th {\n",
       "        vertical-align: top;\n",
       "    }\n",
       "\n",
       "    .dataframe thead th {\n",
       "        text-align: right;\n",
       "    }\n",
       "</style>\n",
       "<table border=\"1\" class=\"dataframe\">\n",
       "  <thead>\n",
       "    <tr style=\"text-align: right;\">\n",
       "      <th></th>\n",
       "      <th>subjid</th>\n",
       "      <th>severity code</th>\n",
       "      <th>Severity Desc 1</th>\n",
       "      <th>Severity Desc 2</th>\n",
       "      <th>Severity Desc 3</th>\n",
       "      <th>Severity Description 4</th>\n",
       "      <th>Severity Desc 5</th>\n",
       "    </tr>\n",
       "  </thead>\n",
       "  <tbody>\n",
       "    <tr>\n",
       "      <th>0</th>\n",
       "      <td>01-001</td>\n",
       "      <td>1</td>\n",
       "      <td>Mild</td>\n",
       "      <td>Mild</td>\n",
       "      <td>Mild</td>\n",
       "      <td>Mild</td>\n",
       "      <td>Mild</td>\n",
       "    </tr>\n",
       "    <tr>\n",
       "      <th>1</th>\n",
       "      <td>01-002</td>\n",
       "      <td>2</td>\n",
       "      <td>Moderate</td>\n",
       "      <td>Moderate</td>\n",
       "      <td>Moderate</td>\n",
       "      <td>Moderate</td>\n",
       "      <td>Moderate</td>\n",
       "    </tr>\n",
       "    <tr>\n",
       "      <th>2</th>\n",
       "      <td>01-003</td>\n",
       "      <td>2</td>\n",
       "      <td>Moderate</td>\n",
       "      <td>Moderate</td>\n",
       "      <td>Moderate</td>\n",
       "      <td>Moderate</td>\n",
       "      <td>Moderate</td>\n",
       "    </tr>\n",
       "    <tr>\n",
       "      <th>3</th>\n",
       "      <td>01-004</td>\n",
       "      <td>3</td>\n",
       "      <td>Severe</td>\n",
       "      <td>Severe</td>\n",
       "      <td>Severe</td>\n",
       "      <td>Severe</td>\n",
       "      <td>Severe</td>\n",
       "    </tr>\n",
       "  </tbody>\n",
       "</table>\n",
       "</div>"
      ],
      "text/plain": [
       "   subjid  severity code Severity Desc 1 Severity Desc 2 Severity Desc 3  \\\n",
       "0  01-001              1            Mild            Mild            Mild   \n",
       "1  01-002              2        Moderate        Moderate        Moderate   \n",
       "2  01-003              2        Moderate        Moderate        Moderate   \n",
       "3  01-004              3          Severe          Severe          Severe   \n",
       "\n",
       "  Severity Description 4 Severity Desc 5  \n",
       "0                   Mild            Mild  \n",
       "1               Moderate        Moderate  \n",
       "2               Moderate        Moderate  \n",
       "3                 Severe          Severe  "
      ]
     },
     "execution_count": 42,
     "metadata": {},
     "output_type": "execute_result"
    }
   ],
   "source": [
    "## Rename variables\n",
    "df2 = df1.rename(columns = {'Severity Desc 4': 'Severity Description 4'})\n",
    "df2"
   ]
  },
  {
   "cell_type": "code",
   "execution_count": 43,
   "metadata": {},
   "outputs": [
    {
     "data": {
      "text/html": [
       "<div>\n",
       "<style scoped>\n",
       "    .dataframe tbody tr th:only-of-type {\n",
       "        vertical-align: middle;\n",
       "    }\n",
       "\n",
       "    .dataframe tbody tr th {\n",
       "        vertical-align: top;\n",
       "    }\n",
       "\n",
       "    .dataframe thead th {\n",
       "        text-align: right;\n",
       "    }\n",
       "</style>\n",
       "<table border=\"1\" class=\"dataframe\">\n",
       "  <thead>\n",
       "    <tr style=\"text-align: right;\">\n",
       "      <th></th>\n",
       "      <th>subjid</th>\n",
       "      <th>severity code</th>\n",
       "      <th>Severity Desc 1</th>\n",
       "      <th>Severity Description 4</th>\n",
       "      <th>Severity Desc 5</th>\n",
       "    </tr>\n",
       "  </thead>\n",
       "  <tbody>\n",
       "    <tr>\n",
       "      <th>0</th>\n",
       "      <td>01-001</td>\n",
       "      <td>1</td>\n",
       "      <td>Mild</td>\n",
       "      <td>Mild</td>\n",
       "      <td>Mild</td>\n",
       "    </tr>\n",
       "    <tr>\n",
       "      <th>1</th>\n",
       "      <td>01-002</td>\n",
       "      <td>2</td>\n",
       "      <td>Moderate</td>\n",
       "      <td>Moderate</td>\n",
       "      <td>Moderate</td>\n",
       "    </tr>\n",
       "    <tr>\n",
       "      <th>2</th>\n",
       "      <td>01-003</td>\n",
       "      <td>2</td>\n",
       "      <td>Moderate</td>\n",
       "      <td>Moderate</td>\n",
       "      <td>Moderate</td>\n",
       "    </tr>\n",
       "    <tr>\n",
       "      <th>3</th>\n",
       "      <td>01-004</td>\n",
       "      <td>3</td>\n",
       "      <td>Severe</td>\n",
       "      <td>Severe</td>\n",
       "      <td>Severe</td>\n",
       "    </tr>\n",
       "  </tbody>\n",
       "</table>\n",
       "</div>"
      ],
      "text/plain": [
       "   subjid  severity code Severity Desc 1 Severity Description 4  \\\n",
       "0  01-001              1            Mild                   Mild   \n",
       "1  01-002              2        Moderate               Moderate   \n",
       "2  01-003              2        Moderate               Moderate   \n",
       "3  01-004              3          Severe                 Severe   \n",
       "\n",
       "  Severity Desc 5  \n",
       "0            Mild  \n",
       "1        Moderate  \n",
       "2        Moderate  \n",
       "3          Severe  "
      ]
     },
     "execution_count": 43,
     "metadata": {},
     "output_type": "execute_result"
    }
   ],
   "source": [
    "## Drop variables\n",
    "df2.drop(columns=['Severity Desc 2', 'Severity Desc 3'], inplace=True)\n",
    "df2"
   ]
  },
  {
   "cell_type": "code",
   "execution_count": 44,
   "metadata": {},
   "outputs": [
    {
     "data": {
      "text/html": [
       "<div>\n",
       "<style scoped>\n",
       "    .dataframe tbody tr th:only-of-type {\n",
       "        vertical-align: middle;\n",
       "    }\n",
       "\n",
       "    .dataframe tbody tr th {\n",
       "        vertical-align: top;\n",
       "    }\n",
       "\n",
       "    .dataframe thead th {\n",
       "        text-align: right;\n",
       "    }\n",
       "</style>\n",
       "<table border=\"1\" class=\"dataframe\">\n",
       "  <thead>\n",
       "    <tr style=\"text-align: right;\">\n",
       "      <th></th>\n",
       "      <th>subjid</th>\n",
       "      <th>Severity Description 4</th>\n",
       "      <th>severity code</th>\n",
       "    </tr>\n",
       "  </thead>\n",
       "  <tbody>\n",
       "    <tr>\n",
       "      <th>0</th>\n",
       "      <td>01-001</td>\n",
       "      <td>Mild</td>\n",
       "      <td>1</td>\n",
       "    </tr>\n",
       "    <tr>\n",
       "      <th>1</th>\n",
       "      <td>01-002</td>\n",
       "      <td>Moderate</td>\n",
       "      <td>2</td>\n",
       "    </tr>\n",
       "    <tr>\n",
       "      <th>2</th>\n",
       "      <td>01-003</td>\n",
       "      <td>Moderate</td>\n",
       "      <td>2</td>\n",
       "    </tr>\n",
       "    <tr>\n",
       "      <th>3</th>\n",
       "      <td>01-004</td>\n",
       "      <td>Severe</td>\n",
       "      <td>3</td>\n",
       "    </tr>\n",
       "  </tbody>\n",
       "</table>\n",
       "</div>"
      ],
      "text/plain": [
       "   subjid Severity Description 4  severity code\n",
       "0  01-001                   Mild              1\n",
       "1  01-002               Moderate              2\n",
       "2  01-003               Moderate              2\n",
       "3  01-004                 Severe              3"
      ]
     },
     "execution_count": 44,
     "metadata": {},
     "output_type": "execute_result"
    }
   ],
   "source": [
    "## Keep variables in the different order\n",
    "df3 = df2[['subjid', 'Severity Description 4', 'severity code']]\n",
    "df3"
   ]
  },
  {
   "cell_type": "code",
   "execution_count": 48,
   "metadata": {},
   "outputs": [
    {
     "name": "stderr",
     "output_type": "stream",
     "text": [
      "C:\\Users\\kevin\\anaconda3\\envs\\python-training\\lib\\site-packages\\pandas\\core\\indexing.py:1720: SettingWithCopyWarning: \n",
      "A value is trying to be set on a copy of a slice from a DataFrame.\n",
      "Try using .loc[row_indexer,col_indexer] = value instead\n",
      "\n",
      "See the caveats in the documentation: https://pandas.pydata.org/pandas-docs/stable/user_guide/indexing.html#returning-a-view-versus-a-copy\n",
      "  self._setitem_single_column(loc, value, pi)\n"
     ]
    },
    {
     "data": {
      "text/html": [
       "<div>\n",
       "<style scoped>\n",
       "    .dataframe tbody tr th:only-of-type {\n",
       "        vertical-align: middle;\n",
       "    }\n",
       "\n",
       "    .dataframe tbody tr th {\n",
       "        vertical-align: top;\n",
       "    }\n",
       "\n",
       "    .dataframe thead th {\n",
       "        text-align: right;\n",
       "    }\n",
       "</style>\n",
       "<table border=\"1\" class=\"dataframe\">\n",
       "  <thead>\n",
       "    <tr style=\"text-align: right;\">\n",
       "      <th></th>\n",
       "      <th>subjid</th>\n",
       "      <th>Severity Description 4</th>\n",
       "      <th>severity code</th>\n",
       "      <th>siteid</th>\n",
       "    </tr>\n",
       "  </thead>\n",
       "  <tbody>\n",
       "    <tr>\n",
       "      <th>0</th>\n",
       "      <td>01-001</td>\n",
       "      <td>Mild</td>\n",
       "      <td>1</td>\n",
       "      <td>01</td>\n",
       "    </tr>\n",
       "    <tr>\n",
       "      <th>1</th>\n",
       "      <td>01-002</td>\n",
       "      <td>Moderate</td>\n",
       "      <td>2</td>\n",
       "      <td>01</td>\n",
       "    </tr>\n",
       "    <tr>\n",
       "      <th>2</th>\n",
       "      <td>01-003</td>\n",
       "      <td>Moderate</td>\n",
       "      <td>2</td>\n",
       "      <td>01</td>\n",
       "    </tr>\n",
       "    <tr>\n",
       "      <th>3</th>\n",
       "      <td>01-004</td>\n",
       "      <td>Severe</td>\n",
       "      <td>3</td>\n",
       "      <td>01</td>\n",
       "    </tr>\n",
       "  </tbody>\n",
       "</table>\n",
       "</div>"
      ],
      "text/plain": [
       "   subjid Severity Description 4  severity code siteid\n",
       "0  01-001                   Mild              1     01\n",
       "1  01-002               Moderate              2     01\n",
       "2  01-003               Moderate              2     01\n",
       "3  01-004                 Severe              3     01"
      ]
     },
     "execution_count": 48,
     "metadata": {},
     "output_type": "execute_result"
    }
   ],
   "source": [
    "### Add the new variable \n",
    "#df3['siteid'] = '01'\n",
    "df3.loc[:,'siteid'] = '01'\n",
    "df3"
   ]
  },
  {
   "cell_type": "markdown",
   "metadata": {},
   "source": [
    "### Subsetting / Slicing"
   ]
  },
  {
   "cell_type": "code",
   "execution_count": 49,
   "metadata": {},
   "outputs": [
    {
     "name": "stdout",
     "output_type": "stream",
     "text": [
      "   subjid  severity_code\n",
      "0  01-001              1\n",
      "1  01-002              2\n",
      "2  01-003              2\n",
      "3  01-004              3\n"
     ]
    }
   ],
   "source": [
    "raw2 = {'subjid': ['01-001', '01-002', '01-003', '01-004'],\n",
    "        'severity_code': [1,2,2,3],\n",
    "       }\n",
    "df4 = pd.DataFrame(raw2)\n",
    "print(df4)"
   ]
  },
  {
   "cell_type": "code",
   "execution_count": 50,
   "metadata": {
    "scrolled": true
   },
   "outputs": [
    {
     "name": "stdout",
     "output_type": "stream",
     "text": [
      "   subjid  severity_code\n",
      "1  01-002              2\n",
      "2  01-003              2\n"
     ]
    }
   ],
   "source": [
    "## using Query function\n",
    "df4_1 =df4.query('severity_code == 2')\n",
    "print(df4_1)"
   ]
  },
  {
   "cell_type": "code",
   "execution_count": 51,
   "metadata": {},
   "outputs": [
    {
     "name": "stdout",
     "output_type": "stream",
     "text": [
      "   subjid  severity_code\n",
      "1  01-002              2\n",
      "2  01-003              2\n"
     ]
    }
   ],
   "source": [
    "df4_2 =df4[df4.severity_code == 2]\n",
    "print(df4_2)"
   ]
  },
  {
   "cell_type": "markdown",
   "metadata": {},
   "source": [
    "### Groupby function\n",
    "df_tteos.groupby(['TRTP', 'SITEID'])['SUBJID'].count()) <br>\n",
    "is similar to <br>\n",
    "proc sql; select trtp, siteid, count(subjid) from df_tteos group by trtp, siteid;"
   ]
  },
  {
   "cell_type": "code",
   "execution_count": 52,
   "metadata": {},
   "outputs": [
    {
     "name": "stdout",
     "output_type": "stream",
     "text": [
      "Frequency count of TRTP : \n",
      " Study Drug    152\n",
      "Control       148\n",
      "Name: TRTP, dtype: int64\n"
     ]
    }
   ],
   "source": [
    "## Frequency of columns\n",
    "print(\"Frequency count of TRTP : \\n\", df_tteos['TRTP'].value_counts())\n",
    "## proc freq data=df_tteos; table TRTP;run"
   ]
  },
  {
   "cell_type": "code",
   "execution_count": 53,
   "metadata": {},
   "outputs": [
    {
     "name": "stdout",
     "output_type": "stream",
     "text": [
      "\n",
      "Frequency count of Subjects by TRTP and SITEID: \n",
      " TRTP        SITEID\n",
      "Control     310        5\n",
      "            311       18\n",
      "            313       16\n",
      "            314       14\n",
      "            315       10\n",
      "            316        2\n",
      "            317        2\n",
      "            318        3\n",
      "            319        7\n",
      "            320       15\n",
      "            321        1\n",
      "            323       11\n",
      "            325       12\n",
      "            326       11\n",
      "            327        2\n",
      "            328        9\n",
      "            340        4\n",
      "            341        2\n",
      "            342        2\n",
      "            343        2\n",
      "Study Drug  310        6\n",
      "            311       18\n",
      "            313       17\n",
      "            314       13\n",
      "            315       10\n",
      "            316        3\n",
      "            317        1\n",
      "            318        5\n",
      "            319        8\n",
      "            320       15\n",
      "            321        2\n",
      "            323       14\n",
      "            325       11\n",
      "            326        9\n",
      "            327        1\n",
      "            328        9\n",
      "            340        4\n",
      "            341        3\n",
      "            342        3\n",
      "Name: SUBJID, dtype: int64\n"
     ]
    }
   ],
   "source": [
    "## Group by \n",
    "print(\"\\nFrequency count of Subjects by TRTP and SITEID: \\n\", df_tteos.groupby(['TRTP', 'SITEID'])['SUBJID'].count())  \n",
    "## proc sql; select trtp, siteid, count(subjid) from df_tteos group by trtp, siteid; quit;"
   ]
  },
  {
   "cell_type": "code",
   "execution_count": 55,
   "metadata": {},
   "outputs": [
    {
     "name": "stdout",
     "output_type": "stream",
     "text": [
      "\n",
      "Average time to event day per treatment: \n",
      " TRTP\n",
      "Control       45.729730\n",
      "Study Drug    45.513158\n",
      "Name: AVAL, dtype: float64\n",
      "\n",
      "Median time to event day per treatment: \n",
      " TRTP\n",
      "Control       40.5\n",
      "Study Drug    45.0\n",
      "Name: AVAL, dtype: float64\n",
      "\n",
      "Descriptive statistics per treatment: \n",
      "             count       mean        std  min    25%   50%   75%   max\n",
      "TRTP                                                                 \n",
      "Control     148.0  45.729730  34.319546  1.0  10.75  40.5  84.0  96.0\n",
      "Study Drug  152.0  45.513158  33.485588  1.0  13.00  45.0  83.0  92.0\n"
     ]
    }
   ],
   "source": [
    "## other gropuby function\n",
    "print(\"\\nAverage time to event day per treatment: \\n\", df_tteos.groupby(['TRTP'])['AVAL'].mean())  \n",
    "print(\"\\nMedian time to event day per treatment: \\n\", df_tteos.groupby(['TRTP'])['AVAL'].median())  \n",
    "print(\"\\nDescriptive statistics per treatment: \\n\", df_tteos.groupby(['TRTP'])['AVAL'].describe()) "
   ]
  },
  {
   "cell_type": "code",
   "execution_count": 56,
   "metadata": {},
   "outputs": [
    {
     "data": {
      "text/html": [
       "<div>\n",
       "<style scoped>\n",
       "    .dataframe tbody tr th:only-of-type {\n",
       "        vertical-align: middle;\n",
       "    }\n",
       "\n",
       "    .dataframe tbody tr th {\n",
       "        vertical-align: top;\n",
       "    }\n",
       "\n",
       "    .dataframe thead th {\n",
       "        text-align: right;\n",
       "    }\n",
       "</style>\n",
       "<table border=\"1\" class=\"dataframe\">\n",
       "  <thead>\n",
       "    <tr style=\"text-align: right;\">\n",
       "      <th></th>\n",
       "      <th>TRTP</th>\n",
       "      <th>SITEID</th>\n",
       "      <th>SUBJID</th>\n",
       "      <th>FASFL</th>\n",
       "      <th>SAFFL</th>\n",
       "      <th>TRTPN</th>\n",
       "      <th>PARAM</th>\n",
       "      <th>PARAMCD</th>\n",
       "      <th>PARAMTYP</th>\n",
       "      <th>AVISIT</th>\n",
       "      <th>AVISITN</th>\n",
       "      <th>AVAL</th>\n",
       "      <th>STARTDT</th>\n",
       "      <th>ADT</th>\n",
       "      <th>ADTF</th>\n",
       "      <th>CNSR</th>\n",
       "      <th>EVNTDESC</th>\n",
       "    </tr>\n",
       "  </thead>\n",
       "  <tbody>\n",
       "    <tr>\n",
       "      <th>0</th>\n",
       "      <td>Control</td>\n",
       "      <td>310</td>\n",
       "      <td>310-001</td>\n",
       "      <td>Y</td>\n",
       "      <td>Y</td>\n",
       "      <td>1.0</td>\n",
       "      <td>Days to Death</td>\n",
       "      <td>DEATH</td>\n",
       "      <td>DERIVED</td>\n",
       "      <td>Double-Blind Period</td>\n",
       "      <td>91.0</td>\n",
       "      <td>1.0</td>\n",
       "      <td>2007-11-12</td>\n",
       "      <td>2007-11-12</td>\n",
       "      <td>None</td>\n",
       "      <td>0.0</td>\n",
       "      <td>DEATH</td>\n",
       "    </tr>\n",
       "    <tr>\n",
       "      <th>1</th>\n",
       "      <td>Control</td>\n",
       "      <td>311</td>\n",
       "      <td>311-002</td>\n",
       "      <td>Y</td>\n",
       "      <td>Y</td>\n",
       "      <td>1.0</td>\n",
       "      <td>Days to Death</td>\n",
       "      <td>DEATH</td>\n",
       "      <td>DERIVED</td>\n",
       "      <td>Double-Blind Period</td>\n",
       "      <td>91.0</td>\n",
       "      <td>81.0</td>\n",
       "      <td>2007-10-30</td>\n",
       "      <td>2008-01-18</td>\n",
       "      <td>Y</td>\n",
       "      <td>1.0</td>\n",
       "      <td>COMPLETE PERIOD WITHOUT EVENT</td>\n",
       "    </tr>\n",
       "    <tr>\n",
       "      <th>2</th>\n",
       "      <td>Control</td>\n",
       "      <td>313</td>\n",
       "      <td>313-001</td>\n",
       "      <td>Y</td>\n",
       "      <td>Y</td>\n",
       "      <td>1.0</td>\n",
       "      <td>Days to Death</td>\n",
       "      <td>DEATH</td>\n",
       "      <td>DERIVED</td>\n",
       "      <td>Double-Blind Period</td>\n",
       "      <td>91.0</td>\n",
       "      <td>1.0</td>\n",
       "      <td>2007-09-03</td>\n",
       "      <td>2007-09-03</td>\n",
       "      <td>None</td>\n",
       "      <td>0.0</td>\n",
       "      <td>DEATH</td>\n",
       "    </tr>\n",
       "    <tr>\n",
       "      <th>3</th>\n",
       "      <td>Control</td>\n",
       "      <td>314</td>\n",
       "      <td>314-001</td>\n",
       "      <td>Y</td>\n",
       "      <td>Y</td>\n",
       "      <td>1.0</td>\n",
       "      <td>Days to Death</td>\n",
       "      <td>DEATH</td>\n",
       "      <td>DERIVED</td>\n",
       "      <td>Double-Blind Period</td>\n",
       "      <td>91.0</td>\n",
       "      <td>1.0</td>\n",
       "      <td>2007-09-07</td>\n",
       "      <td>2007-09-07</td>\n",
       "      <td>Y</td>\n",
       "      <td>0.0</td>\n",
       "      <td>LOST TO FOLLOW-UP</td>\n",
       "    </tr>\n",
       "    <tr>\n",
       "      <th>4</th>\n",
       "      <td>Control</td>\n",
       "      <td>315</td>\n",
       "      <td>315-002</td>\n",
       "      <td>Y</td>\n",
       "      <td>Y</td>\n",
       "      <td>1.0</td>\n",
       "      <td>Days to Death</td>\n",
       "      <td>DEATH</td>\n",
       "      <td>DERIVED</td>\n",
       "      <td>Double-Blind Period</td>\n",
       "      <td>91.0</td>\n",
       "      <td>12.0</td>\n",
       "      <td>2008-08-04</td>\n",
       "      <td>2008-08-15</td>\n",
       "      <td>Y</td>\n",
       "      <td>0.0</td>\n",
       "      <td>LOST TO FOLLOW-UP</td>\n",
       "    </tr>\n",
       "  </tbody>\n",
       "</table>\n",
       "</div>"
      ],
      "text/plain": [
       "      TRTP SITEID   SUBJID FASFL SAFFL  TRTPN          PARAM PARAMCD PARAMTYP  \\\n",
       "0  Control    310  310-001     Y     Y    1.0  Days to Death   DEATH  DERIVED   \n",
       "1  Control    311  311-002     Y     Y    1.0  Days to Death   DEATH  DERIVED   \n",
       "2  Control    313  313-001     Y     Y    1.0  Days to Death   DEATH  DERIVED   \n",
       "3  Control    314  314-001     Y     Y    1.0  Days to Death   DEATH  DERIVED   \n",
       "4  Control    315  315-002     Y     Y    1.0  Days to Death   DEATH  DERIVED   \n",
       "\n",
       "                AVISIT  AVISITN  AVAL    STARTDT        ADT  ADTF  CNSR  \\\n",
       "0  Double-Blind Period     91.0   1.0 2007-11-12 2007-11-12  None   0.0   \n",
       "1  Double-Blind Period     91.0  81.0 2007-10-30 2008-01-18     Y   1.0   \n",
       "2  Double-Blind Period     91.0   1.0 2007-09-03 2007-09-03  None   0.0   \n",
       "3  Double-Blind Period     91.0   1.0 2007-09-07 2007-09-07     Y   0.0   \n",
       "4  Double-Blind Period     91.0  12.0 2008-08-04 2008-08-15     Y   0.0   \n",
       "\n",
       "                        EVNTDESC  \n",
       "0                          DEATH  \n",
       "1  COMPLETE PERIOD WITHOUT EVENT  \n",
       "2                          DEATH  \n",
       "3              LOST TO FOLLOW-UP  \n",
       "4              LOST TO FOLLOW-UP  "
      ]
     },
     "execution_count": 56,
     "metadata": {},
     "output_type": "execute_result"
    }
   ],
   "source": [
    "## First record by trtp and siteid\n",
    "df_tteos_f = df_tteos.groupby(['TRTP', 'SITEID']).first()\n",
    "df_tteos_f2 = df_tteos_f.reset_index()\n",
    "df_tteos_f2.head()"
   ]
  },
  {
   "cell_type": "code",
   "execution_count": 63,
   "metadata": {},
   "outputs": [
    {
     "name": "stdout",
     "output_type": "stream",
     "text": [
      "\n",
      "Number of CNSR values by Treatment: \n",
      " TRTP\n",
      "Control       148\n",
      "Study Drug    152\n",
      "Name: CNSR, dtype: int64\n",
      "\n",
      "Number of distinct CNSR values by Treatment: \n",
      " TRTP\n",
      "Control       2\n",
      "Study Drug    2\n",
      "Name: CNSR, dtype: int64\n"
     ]
    }
   ],
   "source": [
    "print(\"\\nNumber of CNSR values by Treatment: \\n\", df_tteos.groupby(['TRTP'])['CNSR'].count())\n",
    "print(\"\\nNumber of distinct CNSR values by Treatment: \\n\",df_tteos.groupby(['TRTP'])[ 'CNSR'].nunique())"
   ]
  },
  {
   "cell_type": "code",
   "execution_count": null,
   "metadata": {},
   "outputs": [],
   "source": []
  }
 ],
 "metadata": {
  "anaconda-cloud": {},
  "kernelspec": {
   "display_name": "Python 3",
   "language": "python",
   "name": "python3"
  },
  "language_info": {
   "codemirror_mode": {
    "name": "ipython",
    "version": 3
   },
   "file_extension": ".py",
   "mimetype": "text/x-python",
   "name": "python",
   "nbconvert_exporter": "python",
   "pygments_lexer": "ipython3",
   "version": "3.9.4"
  }
 },
 "nbformat": 4,
 "nbformat_minor": 4
}
